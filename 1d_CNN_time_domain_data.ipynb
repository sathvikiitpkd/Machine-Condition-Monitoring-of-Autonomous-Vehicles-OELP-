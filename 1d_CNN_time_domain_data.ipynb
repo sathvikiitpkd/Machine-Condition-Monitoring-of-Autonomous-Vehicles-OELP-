{
 "cells": [
  {
   "cell_type": "markdown",
   "metadata": {
    "id": "eKrxlV8MI0We"
   },
   "source": [
    "# Machine Condition Monitoring for Autonomous Vehicles"
   ]
  },
  {
   "cell_type": "markdown",
   "metadata": {},
   "source": [
    "## INTRODUCTION \n",
    "At the pace of modern business today, no one can afford unplanned outages and costly downtime. Machine Condition\n",
    "Monitoring (MCM) is all about averting problems before they happen.\n",
    "\n"
   ]
  },
  {
   "cell_type": "markdown",
   "metadata": {},
   "source": [
    "## VIBRATION ANALYSIS AND SIGNATURES\n",
    "Vibration Analysis is process that monitores the levels and patterns of vibration signal within a component,\n",
    "machinery or structure, to detect abnormal vibration events and to evaluate the overall condition of the machine i.e automated vehicles.The vibration signature of a machine is the characteristic pattern of vibration it generates while it is in operation.By the pattern of vibration, We can able to judge the present situation accordingly and pass messages to the system by help of past datasets which are already there. Vibration\n",
    "Signature Analysis is one of the most common methods of assessing the health of the rotational components of machines."
   ]
  },
  {
   "cell_type": "markdown",
   "metadata": {},
   "source": [
    "### SIGNAL PROCESSING TECHNIQUES\n",
    "Signal processing plays a significant role in building condition monitoring system. Many types of signals can\n",
    "be used in the condition monitoring of machines, such as vibration signals as in this research; and processing these signals in an appropriate way is crucial in extracting the most salient features related to different fault types. A number of signal processing techniques can fulfil this purpose, and the nature of the captured signal is a significant factor in the selection of the appropriate technique.Some of the signal processing techniques are Spectrogram and MEL Spectrum.\n",
    "### Spectrogram\n",
    "Spectrogram is a visual representation of the spectrum of frequencies of a signal as it varies with time. When\n",
    "applied to an audio signal, spectrograms are sometimes called sonographs, voiceprints, or voicegrams.Spectrograms\n",
    "are used extensively in the fields of sonar, radar, speech processing, seismology, and others.From Spectrogram, the signal is analyzed to determine any substantial frequencies coming from the machine’s components.\n",
    "### MEL Spectrum\n",
    "A Mel spectrogram logarithmically renders frequencies within a certain range of frequencies. Mel spectrograms are\n",
    "better suited for applications that need to model human hearing perception. Here, we find it easier to distinguish between similar low frequency sounds than similar high frequency sounds.It is computed by applying a Fourier transform to analyze the frequency content of a signal and to convert it to the mel-scale"
   ]
  },
  {
   "cell_type": "markdown",
   "metadata": {},
   "source": [
    "## DEEP LEARNING TECHNIQUES\n",
    "Deep Learning(DL) is a type of machine learning based on artificial neural networks in which multiple layers of\n",
    "processing are used to extract progressively higher level features from data. It has become a rapidly growing research direction, redefining state-of-the-art performances in a wide range of areas such as object recognition, image segmentation, speech recognition and machine translation.Data collection,feature extraction and fault identification are typical steps in condition monitoring of a mechanical systems. Conventional approaches in condition monitoring extract features from time and frequency domain of raw signals.\n",
    "### Long Short Term Memory[LSTM]\n",
    "LSTM has a strong ability, can learn sequence data without manual extraction of complex features, and has well built-in capabilities of handling complex high dimensional massive data. A Long Short-Term Memory [LSTM] is a type of RNN that can learn long-term dependencies between time steps of sequence data. Experimental results show that this model approach fetched an accuracy of 99.7 percent which is higher\n",
    "than of other neural network algorithms.\n",
    "### Bi-Directed Long Short Term Memory[LSTM]\n",
    "Bidirectional LSTMs are an extension of traditional LSTMs that can improve model performance on sequence\n",
    "classification problems. In problems where all timesteps of the input sequence are available, Bidirectional LSTMs train two instead of one LSTMs on the input sequence.It means unlike LSTMs,it is capable of utilizing information from both sides.\n",
    "### Convolutional neural network[CNN]\n",
    "A convolutional neural network (CNN) is a type of artificial neural network used in image recognition and processing that is specifically designed to process pixel data.Condition Monitoring is one of the CNNs application.Here,based on the experiment data, the configurations of several key parameters of the network, including the size of data segments, the size of filters, the number of filters of convolutional layer and the number of nodes of fully-connected layer, are tested and analyzed.\n"
   ]
  },
  {
   "cell_type": "markdown",
   "metadata": {},
   "source": [
    "### Detailed Introduction :\n",
    "I have analysed it on a dataset that contains vibration signals collected from bearings of different health conditions under time-varying rotational speed conditions and preprocessed it like doing various operations like shuffing the dataset,normalization using some standard scalers and then applied it on a 1D CNN Model and trained it."
   ]
  },
  {
   "cell_type": "markdown",
   "metadata": {},
   "source": [
    "### DataSet Description :\n",
    "The data contain vibration signals collected from bearings of different health conditions under time-varying rotational speed conditions. There are 60 datasets in total. For each dataset, there are two experimental settings: bearing health condition and varying speed condition. The health conditions of the bearing include (i) healthy, (ii) faulty with an inner race defect, (iii) faulty with an outer race defect, (iv) faulty with a ball defect, and (v) faulty with combined defects on the inner race, the outer race and a ball. The operating rotational speed conditions are (i) increasing speed, (ii) decreasing speed, (iii) increasing then decreasing speed, and (iv) decreasing then increasing speed. Therefore, there are 20 different cases for the setting. To ensure the authenticity of the data, 3 trials are collected for each experimental setting which results in 60 datasets in total. Each dataset contains two channels: 'Channel1' is vibration data measured by the accelerometer and 'Channel2' is the rotational speed data measured by the encoder. All these data are sampled at 200,000Hz and the sampling duration is 10 seconds. The CPR (Cycles Per Revolution) of the encoder is 1024.\n",
    "\n",
    "Dataset H-A-1: the vibration data are collected from a healthy bearing and the operating rotational speed is        increasing from 14.1 Hz to 23.8 Hz.                                                                               \n",
    "Dataset H-A-2: the vibration data are collected from a healthy bearing and the operating rotational speed is        increasing from 14.1 Hz to 29.0 Hz.                                                                               \n",
    "Dataset H-A-3: the vibration data are collected from a healthy bearing and the operating rotational speed is        increasing from 15.2 Hz to 26.7 Hz.                                                                               \n",
    "Dataset I-A-1: the vibration data are collected from a faulty bearing with an inner race defect and the operating  rotational speed is increasing from 12.5 Hz to 27.8 Hz.                                                           \n",
    "Dataset I-A-2: the vibration data are collected from a faulty bearing with an inner race defect and the operating  rotational speed is increasing from 13.0 Hz to 25.7 Hz.                                                           \n",
    "Dataset I-A-3: the vibration data are collected from a faulty bearing with an inner race defect and the operating rotational speed is increasing from 13.5 Hz to 28.5 Hz.                                                           \n",
    "Dataset O-A-1: the vibration data are collected from a faulty bearing with an outer race defect and the operating rotational speed is increasing from 14.8 Hz to 27.1 Hz.                                                           \n",
    "Dataset O-A-2: the vibration data are collected from a faulty bearing with an outer race defect and the operating rotational speed is increasing from 12.9 Hz to 23.0 Hz.                                                           \n",
    "Dataset O-A-3: the vibration data are collected from a faulty bearing with an outer race defect and the operating rotational speed is increasing from 13.3 Hz to 26.3 Hz.                                                           \n"
   ]
  },
  {
   "cell_type": "markdown",
   "metadata": {},
   "source": [
    "The API Model training and testing includes the following steps:\n",
    "    1)Training and Testing data loading and preprocessing\n",
    "    2) Create model using keras layers\n",
    "    3) Model Compilation\n",
    "    4) Model training using model.fit()\n",
    "    5) Save the Model\n",
    "    6) Load the trained model and test \n",
    "    7) Generate its performance"
   ]
  },
  {
   "cell_type": "markdown",
   "metadata": {},
   "source": [
    "Imported some Standard Libraries such numpy, pandas, scipy.io and loaded the dataset of .mat format using scipy.io."
   ]
  },
  {
   "cell_type": "code",
   "execution_count": 2,
   "metadata": {},
   "outputs": [],
   "source": [
    "import numpy as np\n",
    "import scipy.io as sio\n",
    "import pandas as pd"
   ]
  },
  {
   "cell_type": "code",
   "execution_count": 3,
   "metadata": {
    "id": "j2fYPBaoI9hd"
   },
   "outputs": [],
   "source": [
    "HA1 = sio.loadmat('./1 Data collected from a healthy bearing/H-A-1.mat')\n",
    "HA2 = sio.loadmat('./1 Data collected from a healthy bearing/H-A-2.mat')\n",
    "HA3 = sio.loadmat('./1 Data collected from a healthy bearing/H-A-3.mat')\n",
    "IA1 = sio.loadmat('./2 Data collected from a bearing with inner race fault/I-A-1.mat')\n",
    "IA2 = sio.loadmat('./2 Data collected from a bearing with inner race fault/I-A-2.mat')\n",
    "IA3 = sio.loadmat('./2 Data collected from a bearing with inner race fault/I-A-3.mat')\n",
    "OA1 = sio.loadmat('./3 Data collected from a bearing with outer race fault/O-A-1.mat')\n",
    "OA2 = sio.loadmat('./3 Data collected from a bearing with outer race fault/O-A-2.mat')\n",
    "OA3 = sio.loadmat('./3 Data collected from a bearing with outer race fault/O-A-3.mat')\n",
    "BA1 = sio.loadmat('./4 Data collected from a bearing with ball fault/B-A-1.mat')\n",
    "BA2 = sio.loadmat('./4 Data collected from a bearing with ball fault/B-A-2.mat')\n",
    "BA3 = sio.loadmat('./4 Data collected from a bearing with ball fault/B-A-3.mat')"
   ]
  },
  {
   "cell_type": "code",
   "execution_count": 4,
   "metadata": {
    "id": "tXUym8ySJoYq"
   },
   "outputs": [],
   "source": [
    "HA1 = pd.DataFrame(np.hstack((HA1['Channel_1'], HA1['Channel_2'])))\n",
    "HA2 = pd.DataFrame(np.hstack((HA2['Channel_1'], HA2['Channel_2'])))\n",
    "HA3 = pd.DataFrame(np.hstack((HA3['Channel_1'], HA3['Channel_2'])))\n",
    "IA1 = pd.DataFrame(np.hstack((IA1['Channel_1'], IA1['Channel_2'])))\n",
    "IA2 = pd.DataFrame(np.hstack((IA2['Channel_1'], IA2['Channel_2'])))\n",
    "IA3 = pd.DataFrame(np.hstack((IA3['Channel_1'], IA3['Channel_2'])))\n",
    "OA1 = pd.DataFrame(np.hstack((OA1['Channel_1'], OA1['Channel_2'])))\n",
    "OA2 = pd.DataFrame(np.hstack((OA2['Channel_1'], OA2['Channel_2'])))\n",
    "OA3 = pd.DataFrame(np.hstack((OA3['Channel_1'], OA3['Channel_2'])))\n",
    "BA1 = pd.DataFrame(np.hstack((BA1['Channel_1'], BA1['Channel_2'])))\n",
    "BA2 = pd.DataFrame(np.hstack((BA2['Channel_1'], BA2['Channel_2'])))\n",
    "BA3 = pd.DataFrame(np.hstack((BA3['Channel_1'], BA3['Channel_2'])))"
   ]
  },
  {
   "cell_type": "code",
   "execution_count": 5,
   "metadata": {
    "id": "lV5rOlc5JtF9"
   },
   "outputs": [],
   "source": [
    "HA1.columns =['Vibration', 'Speed']\n",
    "HA2.columns =['Vibration', 'Speed']\n",
    "HA3.columns =['Vibration', 'Speed']\n",
    "IA1.columns =['Vibration', 'Speed']\n",
    "IA2.columns =['Vibration', 'Speed']\n",
    "IA3.columns =['Vibration', 'Speed']\n",
    "OA1.columns =['Vibration', 'Speed']\n",
    "OA2.columns =['Vibration', 'Speed']\n",
    "OA3.columns =['Vibration', 'Speed']\n",
    "BA1.columns =['Vibration', 'Speed']\n",
    "BA2.columns =['Vibration', 'Speed']\n",
    "BA3.columns =['Vibration', 'Speed']"
   ]
  },
  {
   "cell_type": "code",
   "execution_count": 6,
   "metadata": {
    "id": "CiPeAW2oJw-Z"
   },
   "outputs": [],
   "source": [
    "HA1.insert(2, \"Fault\", \"0\")\n",
    "HA2.insert(2, \"Fault\", \"0\")\n",
    "HA3.insert(2, \"Fault\", \"0\")\n",
    "IA1.insert(2, \"Fault\", \"1\")\n",
    "IA2.insert(2, \"Fault\", \"1\")\n",
    "IA3.insert(2, \"Fault\", \"1\")\n",
    "OA1.insert(2, \"Fault\", \"2\")\n",
    "OA2.insert(2, \"Fault\", \"2\")\n",
    "OA3.insert(2, \"Fault\", \"2\")\n",
    "BA1.insert(2, \"Fault\", \"3\")\n",
    "BA2.insert(2, \"Fault\", \"3\")\n",
    "BA3.insert(2, \"Fault\", \"3\")"
   ]
  },
  {
   "cell_type": "code",
   "execution_count": 7,
   "metadata": {
    "colab": {
     "base_uri": "https://localhost:8080/",
     "height": 424
    },
    "id": "Tu_ZMyJWKp9R",
    "outputId": "0b7c6905-4a1e-4786-c26f-55f8bc77be2f"
   },
   "outputs": [
    {
     "data": {
      "text/html": [
       "<div>\n",
       "<style scoped>\n",
       "    .dataframe tbody tr th:only-of-type {\n",
       "        vertical-align: middle;\n",
       "    }\n",
       "\n",
       "    .dataframe tbody tr th {\n",
       "        vertical-align: top;\n",
       "    }\n",
       "\n",
       "    .dataframe thead th {\n",
       "        text-align: right;\n",
       "    }\n",
       "</style>\n",
       "<table border=\"1\" class=\"dataframe\">\n",
       "  <thead>\n",
       "    <tr style=\"text-align: right;\">\n",
       "      <th></th>\n",
       "      <th>Vibration</th>\n",
       "      <th>Speed</th>\n",
       "      <th>Fault</th>\n",
       "    </tr>\n",
       "  </thead>\n",
       "  <tbody>\n",
       "    <tr>\n",
       "      <th>0</th>\n",
       "      <td>-0.002199</td>\n",
       "      <td>4.188767</td>\n",
       "      <td>0</td>\n",
       "    </tr>\n",
       "    <tr>\n",
       "      <th>1</th>\n",
       "      <td>-0.001871</td>\n",
       "      <td>4.200603</td>\n",
       "      <td>0</td>\n",
       "    </tr>\n",
       "    <tr>\n",
       "      <th>2</th>\n",
       "      <td>-0.001542</td>\n",
       "      <td>4.208165</td>\n",
       "      <td>0</td>\n",
       "    </tr>\n",
       "    <tr>\n",
       "      <th>3</th>\n",
       "      <td>-0.001871</td>\n",
       "      <td>4.226576</td>\n",
       "      <td>0</td>\n",
       "    </tr>\n",
       "    <tr>\n",
       "      <th>4</th>\n",
       "      <td>-0.002199</td>\n",
       "      <td>4.240385</td>\n",
       "      <td>0</td>\n",
       "    </tr>\n",
       "    <tr>\n",
       "      <th>...</th>\n",
       "      <td>...</td>\n",
       "      <td>...</td>\n",
       "      <td>...</td>\n",
       "    </tr>\n",
       "    <tr>\n",
       "      <th>1999995</th>\n",
       "      <td>-0.012394</td>\n",
       "      <td>0.035688</td>\n",
       "      <td>3</td>\n",
       "    </tr>\n",
       "    <tr>\n",
       "      <th>1999996</th>\n",
       "      <td>-0.011736</td>\n",
       "      <td>0.036346</td>\n",
       "      <td>3</td>\n",
       "    </tr>\n",
       "    <tr>\n",
       "      <th>1999997</th>\n",
       "      <td>-0.014038</td>\n",
       "      <td>0.035031</td>\n",
       "      <td>3</td>\n",
       "    </tr>\n",
       "    <tr>\n",
       "      <th>1999998</th>\n",
       "      <td>-0.020615</td>\n",
       "      <td>4.127615</td>\n",
       "      <td>3</td>\n",
       "    </tr>\n",
       "    <tr>\n",
       "      <th>1999999</th>\n",
       "      <td>-0.024890</td>\n",
       "      <td>4.230850</td>\n",
       "      <td>3</td>\n",
       "    </tr>\n",
       "  </tbody>\n",
       "</table>\n",
       "<p>24000000 rows × 3 columns</p>\n",
       "</div>"
      ],
      "text/plain": [
       "         Vibration     Speed Fault\n",
       "0        -0.002199  4.188767     0\n",
       "1        -0.001871  4.200603     0\n",
       "2        -0.001542  4.208165     0\n",
       "3        -0.001871  4.226576     0\n",
       "4        -0.002199  4.240385     0\n",
       "...            ...       ...   ...\n",
       "1999995  -0.012394  0.035688     3\n",
       "1999996  -0.011736  0.036346     3\n",
       "1999997  -0.014038  0.035031     3\n",
       "1999998  -0.020615  4.127615     3\n",
       "1999999  -0.024890  4.230850     3\n",
       "\n",
       "[24000000 rows x 3 columns]"
      ]
     },
     "execution_count": 7,
     "metadata": {},
     "output_type": "execute_result"
    }
   ],
   "source": [
    "X_train = pd.concat([HA1, HA2, HA3, IA1, IA2, IA3, OA1, OA2, OA3, BA1, BA2, BA3])\n",
    "X_train"
   ]
  },
  {
   "cell_type": "code",
   "execution_count": 11,
   "metadata": {
    "id": "0EeJjOYkK-PM"
   },
   "outputs": [
    {
     "data": {
      "text/html": [
       "<div>\n",
       "<style scoped>\n",
       "    .dataframe tbody tr th:only-of-type {\n",
       "        vertical-align: middle;\n",
       "    }\n",
       "\n",
       "    .dataframe tbody tr th {\n",
       "        vertical-align: top;\n",
       "    }\n",
       "\n",
       "    .dataframe thead th {\n",
       "        text-align: right;\n",
       "    }\n",
       "</style>\n",
       "<table border=\"1\" class=\"dataframe\">\n",
       "  <thead>\n",
       "    <tr style=\"text-align: right;\">\n",
       "      <th></th>\n",
       "      <th>0</th>\n",
       "      <th>1</th>\n",
       "      <th>2</th>\n",
       "    </tr>\n",
       "  </thead>\n",
       "  <tbody>\n",
       "    <tr>\n",
       "      <th>0</th>\n",
       "      <td>0.510868</td>\n",
       "      <td>0.937734</td>\n",
       "      <td>0.0</td>\n",
       "    </tr>\n",
       "    <tr>\n",
       "      <th>1</th>\n",
       "      <td>0.511024</td>\n",
       "      <td>0.940332</td>\n",
       "      <td>0.0</td>\n",
       "    </tr>\n",
       "    <tr>\n",
       "      <th>2</th>\n",
       "      <td>0.511180</td>\n",
       "      <td>0.941991</td>\n",
       "      <td>0.0</td>\n",
       "    </tr>\n",
       "    <tr>\n",
       "      <th>3</th>\n",
       "      <td>0.511024</td>\n",
       "      <td>0.946031</td>\n",
       "      <td>0.0</td>\n",
       "    </tr>\n",
       "    <tr>\n",
       "      <th>4</th>\n",
       "      <td>0.510868</td>\n",
       "      <td>0.949062</td>\n",
       "      <td>0.0</td>\n",
       "    </tr>\n",
       "    <tr>\n",
       "      <th>...</th>\n",
       "      <td>...</td>\n",
       "      <td>...</td>\n",
       "      <td>...</td>\n",
       "    </tr>\n",
       "    <tr>\n",
       "      <th>23999995</th>\n",
       "      <td>0.506020</td>\n",
       "      <td>0.026335</td>\n",
       "      <td>1.0</td>\n",
       "    </tr>\n",
       "    <tr>\n",
       "      <th>23999996</th>\n",
       "      <td>0.506333</td>\n",
       "      <td>0.026479</td>\n",
       "      <td>1.0</td>\n",
       "    </tr>\n",
       "    <tr>\n",
       "      <th>23999997</th>\n",
       "      <td>0.505238</td>\n",
       "      <td>0.026190</td>\n",
       "      <td>1.0</td>\n",
       "    </tr>\n",
       "    <tr>\n",
       "      <th>23999998</th>\n",
       "      <td>0.502111</td>\n",
       "      <td>0.924314</td>\n",
       "      <td>1.0</td>\n",
       "    </tr>\n",
       "    <tr>\n",
       "      <th>23999999</th>\n",
       "      <td>0.500078</td>\n",
       "      <td>0.946969</td>\n",
       "      <td>1.0</td>\n",
       "    </tr>\n",
       "  </tbody>\n",
       "</table>\n",
       "<p>24000000 rows × 3 columns</p>\n",
       "</div>"
      ],
      "text/plain": [
       "                 0         1    2\n",
       "0         0.510868  0.937734  0.0\n",
       "1         0.511024  0.940332  0.0\n",
       "2         0.511180  0.941991  0.0\n",
       "3         0.511024  0.946031  0.0\n",
       "4         0.510868  0.949062  0.0\n",
       "...            ...       ...  ...\n",
       "23999995  0.506020  0.026335  1.0\n",
       "23999996  0.506333  0.026479  1.0\n",
       "23999997  0.505238  0.026190  1.0\n",
       "23999998  0.502111  0.924314  1.0\n",
       "23999999  0.500078  0.946969  1.0\n",
       "\n",
       "[24000000 rows x 3 columns]"
      ]
     },
     "execution_count": 11,
     "metadata": {},
     "output_type": "execute_result"
    }
   ],
   "source": [
    "# Normalisation \n",
    "# from sklearn.preprocessing I have imported MinMaxScaler and done Normalisation.\n",
    "from sklearn.preprocessing import MinMaxScaler\n",
    "scaler = MinMaxScaler()\n",
    "train = pd.DataFrame(scaler.fit_transform(X_train))\n",
    "train.sample(frac=1)\n",
    "train"
   ]
  },
  {
   "cell_type": "code",
   "execution_count": 12,
   "metadata": {
    "colab": {
     "base_uri": "https://localhost:8080/"
    },
    "id": "kKm9MO9snF-N",
    "outputId": "a979d025-a6b6-436c-cf68-8041dd103db5"
   },
   "outputs": [
    {
     "data": {
      "text/plain": [
       "(24000000, 3)"
      ]
     },
     "execution_count": 12,
     "metadata": {},
     "output_type": "execute_result"
    }
   ],
   "source": [
    "train.shape"
   ]
  },
  {
   "cell_type": "markdown",
   "metadata": {},
   "source": [
    "I have imported several layers like Input, Dropout, Dense, Convolution1D, Flatten . I have also imported Sequential Model. Then I have made a 1-D CNN Model by adding several layers to Model and aligned it according. Finally I have compiled the model using loss function 'mse', optimizer 'adam' and metrics 'accuracy'."
   ]
  },
  {
   "cell_type": "code",
   "execution_count": 14,
   "metadata": {},
   "outputs": [],
   "source": [
    "from keras.layers import Input, Dropout, Dense, Convolution1D, Flatten\n",
    "from keras.models import Sequential"
   ]
  },
  {
   "cell_type": "markdown",
   "metadata": {},
   "source": [
    "Keras API Models can be build in two ways using layers:\n",
    "1) Sequential API Model\n",
    "2) Functional API Model\n",
    "I have choosen Sequential API Model\n",
    "Here, We create the model layer by layer. Sharing of layers or branching of layers is not allowed."
   ]
  },
  {
   "cell_type": "code",
   "execution_count": 16,
   "metadata": {
    "colab": {
     "base_uri": "https://localhost:8080/"
    },
    "id": "BMNOmXLUgohU",
    "outputId": "257e4eb1-eec6-46d4-bae0-725cab8f9168"
   },
   "outputs": [
    {
     "name": "stdout",
     "output_type": "stream",
     "text": [
      "Model: \"sequential_1\"\n",
      "_________________________________________________________________\n",
      " Layer (type)                Output Shape              Param #   \n",
      "=================================================================\n",
      " conv1d_1 (Conv1D)           (None, 3, 64)             256       \n",
      "                                                                 \n",
      " flatten_1 (Flatten)         (None, 192)               0         \n",
      "                                                                 \n",
      " dropout_2 (Dropout)         (None, 192)               0         \n",
      "                                                                 \n",
      " dense_3 (Dense)             (None, 128)               24704     \n",
      "                                                                 \n",
      " dropout_3 (Dropout)         (None, 128)               0         \n",
      "                                                                 \n",
      " dense_4 (Dense)             (None, 64)                8256      \n",
      "                                                                 \n",
      " dense_5 (Dense)             (None, 3)                 195       \n",
      "                                                                 \n",
      "=================================================================\n",
      "Total params: 33,411\n",
      "Trainable params: 33,411\n",
      "Non-trainable params: 0\n",
      "_________________________________________________________________\n"
     ]
    }
   ],
   "source": [
    "model = Sequential()\n",
    "model.add(Convolution1D(filters = 64, kernel_size = 3, input_shape=(train.shape[1],1), padding='same', activation='relu'))\n",
    "model.add(Flatten())\n",
    "model.add(Dropout(0.2))\n",
    "model.add(Dense(128, activation='relu'))\n",
    "model.add(Dropout(0.2))\n",
    "model.add(Dense(64, activation='relu'))\n",
    "model.add(Dense(3, activation='softmax'))\n",
    "\n",
    "model.compile(loss='mse',optimizer='adam', metrics=['acc'])\n",
    "model.summary()"
   ]
  },
  {
   "cell_type": "markdown",
   "metadata": {},
   "source": [
    "Here, I trained by model with a batch size of 1000 and use 80% as training dataset and 20% as testing dataset. I have trained the model by doing 10 iterations of the dataset."
   ]
  },
  {
   "cell_type": "code",
   "execution_count": 19,
   "metadata": {
    "colab": {
     "base_uri": "https://localhost:8080/"
    },
    "id": "sRePgI-roImi",
    "outputId": "c5491365-11d1-4a50-fd35-0fc588474a38"
   },
   "outputs": [
    {
     "name": "stdout",
     "output_type": "stream",
     "text": [
      "Epoch 1/10\n",
      "19200/19200 [==============================] - 102s 5ms/step - loss: 0.0523 - acc: 0.9986 - val_loss: 0.1382 - val_acc: 1.0000\n",
      "Epoch 2/10\n",
      "19200/19200 [==============================] - 104s 5ms/step - loss: 0.0522 - acc: 0.9997 - val_loss: 0.1381 - val_acc: 1.0000\n",
      "Epoch 3/10\n",
      "19200/19200 [==============================] - 106s 6ms/step - loss: 0.0522 - acc: 0.9997 - val_loss: 0.1381 - val_acc: 1.0000\n",
      "Epoch 4/10\n",
      "19200/19200 [==============================] - 107s 6ms/step - loss: 0.0522 - acc: 0.9997 - val_loss: 0.1381 - val_acc: 1.0000\n",
      "Epoch 5/10\n",
      "19200/19200 [==============================] - 106s 6ms/step - loss: 0.0522 - acc: 0.9997 - val_loss: 0.1381 - val_acc: 1.0000\n",
      "Epoch 6/10\n",
      "19200/19200 [==============================] - 106s 6ms/step - loss: 0.0522 - acc: 0.9997 - val_loss: 0.1381 - val_acc: 1.0000\n",
      "Epoch 7/10\n",
      "19200/19200 [==============================] - 102s 5ms/step - loss: 0.0522 - acc: 0.9997 - val_loss: 0.1381 - val_acc: 1.0000\n",
      "Epoch 8/10\n",
      "19200/19200 [==============================] - 96s 5ms/step - loss: 0.0522 - acc: 0.9997 - val_loss: 0.1381 - val_acc: 1.0000\n",
      "Epoch 9/10\n",
      "19200/19200 [==============================] - 102s 5ms/step - loss: 0.0522 - acc: 0.9997 - val_loss: 0.1381 - val_acc: 1.0000\n",
      "Epoch 10/10\n",
      "19200/19200 [==============================] - 112s 6ms/step - loss: 0.0522 - acc: 0.9997 - val_loss: 0.1381 - val_acc: 1.0000\n"
     ]
    }
   ],
   "source": [
    "history=model.fit(train, train, batch_size=1000, epochs=10, validation_split=0.2, shuffle=True)"
   ]
  },
  {
   "cell_type": "markdown",
   "metadata": {},
   "source": [
    "### References\n",
    "Dataset Reference: Bearing vibration at time varying rotational speed                                                                                                                 [https://www.kaggle.com/datasets/sameedrazi/bearing-vibration-at-time-varying-rotational-speed ]"
   ]
  },
  {
   "cell_type": "markdown",
   "metadata": {},
   "source": [
    "### Done By:\n",
    "M.Likhith Reddy (112001021)\n",
    "A.Sathvik (112001005)\n",
    "\n",
    "### Advisor: \n",
    "Dr. M. Sabarimalai Manikandan"
   ]
  },
  {
   "cell_type": "code",
   "execution_count": null,
   "metadata": {},
   "outputs": [],
   "source": []
  }
 ],
 "metadata": {
  "colab": {
   "collapsed_sections": [],
   "provenance": []
  },
  "kernelspec": {
   "display_name": "Python 3 (ipykernel)",
   "language": "python",
   "name": "python3"
  },
  "language_info": {
   "codemirror_mode": {
    "name": "ipython",
    "version": 3
   },
   "file_extension": ".py",
   "mimetype": "text/x-python",
   "name": "python",
   "nbconvert_exporter": "python",
   "pygments_lexer": "ipython3",
   "version": "3.8.10"
  }
 },
 "nbformat": 4,
 "nbformat_minor": 1
}
